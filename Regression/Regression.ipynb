{
 "cells": [
  {
   "cell_type": "markdown",
   "metadata": {},
   "source": [
    "## Regression-Predicting Continuos values"
   ]
  },
  {
   "cell_type": "code",
   "execution_count": 1,
   "metadata": {},
   "outputs": [],
   "source": [
    "from warnings import filterwarnings\n",
    "filterwarnings('ignore')"
   ]
  },
  {
   "cell_type": "markdown",
   "metadata": {},
   "source": [
    "### Create a regression dataset"
   ]
  },
  {
   "cell_type": "code",
   "execution_count": 4,
   "metadata": {},
   "outputs": [],
   "source": [
    "from sklearn.datasets import make_regression\n",
    "X,Y=make_regression(n_samples=5000,n_features=30,n_informative=25,noise=10,random_state=42)"
   ]
  },
  {
   "cell_type": "code",
   "execution_count": 5,
   "metadata": {},
   "outputs": [
    {
     "data": {
      "text/plain": [
       "array([[-1.05245683, -0.94496269, -1.79989659, ..., -1.83442393,\n",
       "        -0.07956011,  1.20745263],\n",
       "       [-0.84747383,  0.31840811,  0.24796167, ..., -0.2390554 ,\n",
       "        -0.69763862,  1.31984005],\n",
       "       [-0.94602775,  0.2383774 , -1.6176638 , ..., -0.09142036,\n",
       "        -0.74652074, -2.21823553],\n",
       "       ...,\n",
       "       [-0.22097737,  1.14453288, -0.39354952, ..., -0.90184457,\n",
       "        -0.07424546, -0.2463316 ],\n",
       "       [-0.95614616,  0.03256098, -1.12885675, ..., -0.00963513,\n",
       "        -1.43734832,  0.63541106],\n",
       "       [ 1.51114116, -0.00270833, -1.26097476, ..., -0.15650465,\n",
       "         0.50981791,  1.19398227]])"
      ]
     },
     "execution_count": 5,
     "metadata": {},
     "output_type": "execute_result"
    }
   ],
   "source": [
    "X"
   ]
  },
  {
   "cell_type": "code",
   "execution_count": 3,
   "metadata": {},
   "outputs": [
    {
     "data": {
      "text/plain": [
       "(500, 30)"
      ]
     },
     "execution_count": 3,
     "metadata": {},
     "output_type": "execute_result"
    }
   ],
   "source": [
    "X.shape"
   ]
  },
  {
   "cell_type": "code",
   "execution_count": 6,
   "metadata": {},
   "outputs": [
    {
     "data": {
      "text/plain": [
       "array([-232.93639282, -144.45063306,  -30.67109763, ...,  143.2968639 ,\n",
       "       -248.32988778,  -19.83229819])"
      ]
     },
     "execution_count": 6,
     "metadata": {},
     "output_type": "execute_result"
    }
   ],
   "source": [
    "Y"
   ]
  },
  {
   "cell_type": "markdown",
   "metadata": {},
   "source": [
    "### Save X and Y in dataframe"
   ]
  },
  {
   "cell_type": "code",
   "execution_count": 7,
   "metadata": {},
   "outputs": [
    {
     "data": {
      "text/plain": [
       "['x1',\n",
       " 'x2',\n",
       " 'x3',\n",
       " 'x4',\n",
       " 'x5',\n",
       " 'x6',\n",
       " 'x7',\n",
       " 'x8',\n",
       " 'x9',\n",
       " 'x10',\n",
       " 'x11',\n",
       " 'x12',\n",
       " 'x13',\n",
       " 'x14',\n",
       " 'x15',\n",
       " 'x16',\n",
       " 'x17',\n",
       " 'x18',\n",
       " 'x19',\n",
       " 'x20',\n",
       " 'x21',\n",
       " 'x22',\n",
       " 'x23',\n",
       " 'x24',\n",
       " 'x25',\n",
       " 'x26',\n",
       " 'x27',\n",
       " 'x28',\n",
       " 'x29',\n",
       " 'x30']"
      ]
     },
     "execution_count": 7,
     "metadata": {},
     "output_type": "execute_result"
    }
   ],
   "source": [
    "cols=[f'x{i+1}' for i in range(30)]\n",
    "cols"
   ]
  },
  {
   "cell_type": "code",
   "execution_count": 8,
   "metadata": {},
   "outputs": [
    {
     "data": {
      "text/html": [
       "<div>\n",
       "<style scoped>\n",
       "    .dataframe tbody tr th:only-of-type {\n",
       "        vertical-align: middle;\n",
       "    }\n",
       "\n",
       "    .dataframe tbody tr th {\n",
       "        vertical-align: top;\n",
       "    }\n",
       "\n",
       "    .dataframe thead th {\n",
       "        text-align: right;\n",
       "    }\n",
       "</style>\n",
       "<table border=\"1\" class=\"dataframe\">\n",
       "  <thead>\n",
       "    <tr style=\"text-align: right;\">\n",
       "      <th></th>\n",
       "      <th>x1</th>\n",
       "      <th>x2</th>\n",
       "      <th>x3</th>\n",
       "      <th>x4</th>\n",
       "      <th>x5</th>\n",
       "      <th>x6</th>\n",
       "      <th>x7</th>\n",
       "      <th>x8</th>\n",
       "      <th>x9</th>\n",
       "      <th>x10</th>\n",
       "      <th>...</th>\n",
       "      <th>x21</th>\n",
       "      <th>x22</th>\n",
       "      <th>x23</th>\n",
       "      <th>x24</th>\n",
       "      <th>x25</th>\n",
       "      <th>x26</th>\n",
       "      <th>x27</th>\n",
       "      <th>x28</th>\n",
       "      <th>x29</th>\n",
       "      <th>x30</th>\n",
       "    </tr>\n",
       "  </thead>\n",
       "  <tbody>\n",
       "    <tr>\n",
       "      <th>0</th>\n",
       "      <td>-1.052457</td>\n",
       "      <td>-0.944963</td>\n",
       "      <td>-1.799897</td>\n",
       "      <td>-0.034799</td>\n",
       "      <td>-1.482409</td>\n",
       "      <td>1.613543</td>\n",
       "      <td>-0.748163</td>\n",
       "      <td>-0.645310</td>\n",
       "      <td>1.063117</td>\n",
       "      <td>-1.335465</td>\n",
       "      <td>...</td>\n",
       "      <td>-0.398323</td>\n",
       "      <td>0.326932</td>\n",
       "      <td>2.042239</td>\n",
       "      <td>-0.301699</td>\n",
       "      <td>-1.361063</td>\n",
       "      <td>1.454857</td>\n",
       "      <td>-0.066823</td>\n",
       "      <td>-1.834424</td>\n",
       "      <td>-0.079560</td>\n",
       "      <td>1.207453</td>\n",
       "    </tr>\n",
       "    <tr>\n",
       "      <th>1</th>\n",
       "      <td>-0.847474</td>\n",
       "      <td>0.318408</td>\n",
       "      <td>0.247962</td>\n",
       "      <td>0.176165</td>\n",
       "      <td>0.550274</td>\n",
       "      <td>-0.695864</td>\n",
       "      <td>0.599538</td>\n",
       "      <td>-0.050914</td>\n",
       "      <td>1.363157</td>\n",
       "      <td>-1.201647</td>\n",
       "      <td>...</td>\n",
       "      <td>-1.368967</td>\n",
       "      <td>-0.403174</td>\n",
       "      <td>0.125837</td>\n",
       "      <td>-1.231097</td>\n",
       "      <td>-0.042579</td>\n",
       "      <td>-0.293594</td>\n",
       "      <td>-0.505876</td>\n",
       "      <td>-0.239055</td>\n",
       "      <td>-0.697639</td>\n",
       "      <td>1.319840</td>\n",
       "    </tr>\n",
       "    <tr>\n",
       "      <th>2</th>\n",
       "      <td>-0.946028</td>\n",
       "      <td>0.238377</td>\n",
       "      <td>-1.617664</td>\n",
       "      <td>-2.253756</td>\n",
       "      <td>-1.057629</td>\n",
       "      <td>-0.011553</td>\n",
       "      <td>1.400647</td>\n",
       "      <td>0.990803</td>\n",
       "      <td>-0.262228</td>\n",
       "      <td>-0.396235</td>\n",
       "      <td>...</td>\n",
       "      <td>-0.400736</td>\n",
       "      <td>0.007432</td>\n",
       "      <td>0.219753</td>\n",
       "      <td>2.205187</td>\n",
       "      <td>0.746020</td>\n",
       "      <td>-0.175596</td>\n",
       "      <td>-1.132978</td>\n",
       "      <td>-0.091420</td>\n",
       "      <td>-0.746521</td>\n",
       "      <td>-2.218236</td>\n",
       "    </tr>\n",
       "    <tr>\n",
       "      <th>3</th>\n",
       "      <td>-0.365222</td>\n",
       "      <td>0.004347</td>\n",
       "      <td>1.459301</td>\n",
       "      <td>1.650519</td>\n",
       "      <td>-3.114990</td>\n",
       "      <td>0.718841</td>\n",
       "      <td>1.669763</td>\n",
       "      <td>0.594568</td>\n",
       "      <td>0.350614</td>\n",
       "      <td>-0.528732</td>\n",
       "      <td>...</td>\n",
       "      <td>0.587610</td>\n",
       "      <td>0.050495</td>\n",
       "      <td>0.692244</td>\n",
       "      <td>0.492412</td>\n",
       "      <td>-0.118160</td>\n",
       "      <td>0.151945</td>\n",
       "      <td>-0.299890</td>\n",
       "      <td>1.009559</td>\n",
       "      <td>-0.779756</td>\n",
       "      <td>1.105541</td>\n",
       "    </tr>\n",
       "    <tr>\n",
       "      <th>4</th>\n",
       "      <td>-0.937119</td>\n",
       "      <td>0.038862</td>\n",
       "      <td>0.267291</td>\n",
       "      <td>-2.321520</td>\n",
       "      <td>-0.519995</td>\n",
       "      <td>1.281711</td>\n",
       "      <td>-0.447109</td>\n",
       "      <td>1.847404</td>\n",
       "      <td>-0.179080</td>\n",
       "      <td>0.073799</td>\n",
       "      <td>...</td>\n",
       "      <td>-0.985717</td>\n",
       "      <td>0.734585</td>\n",
       "      <td>-0.870311</td>\n",
       "      <td>0.316585</td>\n",
       "      <td>0.373045</td>\n",
       "      <td>-0.594102</td>\n",
       "      <td>-1.388615</td>\n",
       "      <td>1.262913</td>\n",
       "      <td>-0.668793</td>\n",
       "      <td>-0.049186</td>\n",
       "    </tr>\n",
       "  </tbody>\n",
       "</table>\n",
       "<p>5 rows × 30 columns</p>\n",
       "</div>"
      ],
      "text/plain": [
       "         x1        x2        x3        x4        x5        x6        x7  \\\n",
       "0 -1.052457 -0.944963 -1.799897 -0.034799 -1.482409  1.613543 -0.748163   \n",
       "1 -0.847474  0.318408  0.247962  0.176165  0.550274 -0.695864  0.599538   \n",
       "2 -0.946028  0.238377 -1.617664 -2.253756 -1.057629 -0.011553  1.400647   \n",
       "3 -0.365222  0.004347  1.459301  1.650519 -3.114990  0.718841  1.669763   \n",
       "4 -0.937119  0.038862  0.267291 -2.321520 -0.519995  1.281711 -0.447109   \n",
       "\n",
       "         x8        x9       x10  ...       x21       x22       x23       x24  \\\n",
       "0 -0.645310  1.063117 -1.335465  ... -0.398323  0.326932  2.042239 -0.301699   \n",
       "1 -0.050914  1.363157 -1.201647  ... -1.368967 -0.403174  0.125837 -1.231097   \n",
       "2  0.990803 -0.262228 -0.396235  ... -0.400736  0.007432  0.219753  2.205187   \n",
       "3  0.594568  0.350614 -0.528732  ...  0.587610  0.050495  0.692244  0.492412   \n",
       "4  1.847404 -0.179080  0.073799  ... -0.985717  0.734585 -0.870311  0.316585   \n",
       "\n",
       "        x25       x26       x27       x28       x29       x30  \n",
       "0 -1.361063  1.454857 -0.066823 -1.834424 -0.079560  1.207453  \n",
       "1 -0.042579 -0.293594 -0.505876 -0.239055 -0.697639  1.319840  \n",
       "2  0.746020 -0.175596 -1.132978 -0.091420 -0.746521 -2.218236  \n",
       "3 -0.118160  0.151945 -0.299890  1.009559 -0.779756  1.105541  \n",
       "4  0.373045 -0.594102 -1.388615  1.262913 -0.668793 -0.049186  \n",
       "\n",
       "[5 rows x 30 columns]"
      ]
     },
     "execution_count": 8,
     "metadata": {},
     "output_type": "execute_result"
    }
   ],
   "source": [
    "import pandas as pd\n",
    "X=pd.DataFrame(X,columns=cols)\n",
    "X.head()"
   ]
  },
  {
   "cell_type": "code",
   "execution_count": 9,
   "metadata": {},
   "outputs": [],
   "source": [
    "Y=pd.DataFrame(Y,columns=['Y'])"
   ]
  },
  {
   "cell_type": "code",
   "execution_count": 10,
   "metadata": {},
   "outputs": [
    {
     "data": {
      "text/html": [
       "<div>\n",
       "<style scoped>\n",
       "    .dataframe tbody tr th:only-of-type {\n",
       "        vertical-align: middle;\n",
       "    }\n",
       "\n",
       "    .dataframe tbody tr th {\n",
       "        vertical-align: top;\n",
       "    }\n",
       "\n",
       "    .dataframe thead th {\n",
       "        text-align: right;\n",
       "    }\n",
       "</style>\n",
       "<table border=\"1\" class=\"dataframe\">\n",
       "  <thead>\n",
       "    <tr style=\"text-align: right;\">\n",
       "      <th></th>\n",
       "      <th>Y</th>\n",
       "    </tr>\n",
       "  </thead>\n",
       "  <tbody>\n",
       "    <tr>\n",
       "      <th>0</th>\n",
       "      <td>-232.936393</td>\n",
       "    </tr>\n",
       "    <tr>\n",
       "      <th>1</th>\n",
       "      <td>-144.450633</td>\n",
       "    </tr>\n",
       "    <tr>\n",
       "      <th>2</th>\n",
       "      <td>-30.671098</td>\n",
       "    </tr>\n",
       "    <tr>\n",
       "      <th>3</th>\n",
       "      <td>165.764197</td>\n",
       "    </tr>\n",
       "    <tr>\n",
       "      <th>4</th>\n",
       "      <td>-252.068764</td>\n",
       "    </tr>\n",
       "    <tr>\n",
       "      <th>...</th>\n",
       "      <td>...</td>\n",
       "    </tr>\n",
       "    <tr>\n",
       "      <th>4995</th>\n",
       "      <td>337.924300</td>\n",
       "    </tr>\n",
       "    <tr>\n",
       "      <th>4996</th>\n",
       "      <td>587.266360</td>\n",
       "    </tr>\n",
       "    <tr>\n",
       "      <th>4997</th>\n",
       "      <td>143.296864</td>\n",
       "    </tr>\n",
       "    <tr>\n",
       "      <th>4998</th>\n",
       "      <td>-248.329888</td>\n",
       "    </tr>\n",
       "    <tr>\n",
       "      <th>4999</th>\n",
       "      <td>-19.832298</td>\n",
       "    </tr>\n",
       "  </tbody>\n",
       "</table>\n",
       "<p>5000 rows × 1 columns</p>\n",
       "</div>"
      ],
      "text/plain": [
       "               Y\n",
       "0    -232.936393\n",
       "1    -144.450633\n",
       "2     -30.671098\n",
       "3     165.764197\n",
       "4    -252.068764\n",
       "...          ...\n",
       "4995  337.924300\n",
       "4996  587.266360\n",
       "4997  143.296864\n",
       "4998 -248.329888\n",
       "4999  -19.832298\n",
       "\n",
       "[5000 rows x 1 columns]"
      ]
     },
     "execution_count": 10,
     "metadata": {},
     "output_type": "execute_result"
    }
   ],
   "source": [
    "Y"
   ]
  },
  {
   "cell_type": "markdown",
   "metadata": {},
   "source": [
    "### Creating a preprocessing Pipeline for X "
   ]
  },
  {
   "cell_type": "code",
   "execution_count": 11,
   "metadata": {},
   "outputs": [],
   "source": [
    "from sklearn.pipeline import Pipeline\n",
    "from sklearn.impute import SimpleImputer\n",
    "from sklearn.preprocessing import StandardScaler"
   ]
  },
  {
   "cell_type": "code",
   "execution_count": 13,
   "metadata": {},
   "outputs": [],
   "source": [
    "num_pipe=Pipeline(steps=[('impute',SimpleImputer(strategy='mean')),('scaler',StandardScaler())])"
   ]
  },
  {
   "cell_type": "code",
   "execution_count": 14,
   "metadata": {},
   "outputs": [],
   "source": [
    "X_pre=num_pipe.fit_transform(X)"
   ]
  },
  {
   "cell_type": "code",
   "execution_count": 15,
   "metadata": {},
   "outputs": [
    {
     "data": {
      "text/plain": [
       "array(['x1', 'x2', 'x3', 'x4', 'x5', 'x6', 'x7', 'x8', 'x9', 'x10', 'x11',\n",
       "       'x12', 'x13', 'x14', 'x15', 'x16', 'x17', 'x18', 'x19', 'x20',\n",
       "       'x21', 'x22', 'x23', 'x24', 'x25', 'x26', 'x27', 'x28', 'x29',\n",
       "       'x30'], dtype=object)"
      ]
     },
     "execution_count": 15,
     "metadata": {},
     "output_type": "execute_result"
    }
   ],
   "source": [
    "cols=num_pipe.get_feature_names_out()\n",
    "cols"
   ]
  },
  {
   "cell_type": "code",
   "execution_count": 16,
   "metadata": {},
   "outputs": [
    {
     "data": {
      "text/html": [
       "<div>\n",
       "<style scoped>\n",
       "    .dataframe tbody tr th:only-of-type {\n",
       "        vertical-align: middle;\n",
       "    }\n",
       "\n",
       "    .dataframe tbody tr th {\n",
       "        vertical-align: top;\n",
       "    }\n",
       "\n",
       "    .dataframe thead th {\n",
       "        text-align: right;\n",
       "    }\n",
       "</style>\n",
       "<table border=\"1\" class=\"dataframe\">\n",
       "  <thead>\n",
       "    <tr style=\"text-align: right;\">\n",
       "      <th></th>\n",
       "      <th>x1</th>\n",
       "      <th>x2</th>\n",
       "      <th>x3</th>\n",
       "      <th>x4</th>\n",
       "      <th>x5</th>\n",
       "      <th>x6</th>\n",
       "      <th>x7</th>\n",
       "      <th>x8</th>\n",
       "      <th>x9</th>\n",
       "      <th>x10</th>\n",
       "      <th>...</th>\n",
       "      <th>x21</th>\n",
       "      <th>x22</th>\n",
       "      <th>x23</th>\n",
       "      <th>x24</th>\n",
       "      <th>x25</th>\n",
       "      <th>x26</th>\n",
       "      <th>x27</th>\n",
       "      <th>x28</th>\n",
       "      <th>x29</th>\n",
       "      <th>x30</th>\n",
       "    </tr>\n",
       "  </thead>\n",
       "  <tbody>\n",
       "    <tr>\n",
       "      <th>0</th>\n",
       "      <td>-1.008775</td>\n",
       "      <td>-0.968496</td>\n",
       "      <td>-1.835622</td>\n",
       "      <td>-0.032196</td>\n",
       "      <td>-1.485420</td>\n",
       "      <td>1.614947</td>\n",
       "      <td>-0.747164</td>\n",
       "      <td>-0.627734</td>\n",
       "      <td>1.038359</td>\n",
       "      <td>-1.340893</td>\n",
       "      <td>...</td>\n",
       "      <td>-0.418507</td>\n",
       "      <td>0.322752</td>\n",
       "      <td>2.071710</td>\n",
       "      <td>-0.324901</td>\n",
       "      <td>-1.342910</td>\n",
       "      <td>1.406812</td>\n",
       "      <td>-0.052268</td>\n",
       "      <td>-1.847436</td>\n",
       "      <td>-0.064417</td>\n",
       "      <td>1.196338</td>\n",
       "    </tr>\n",
       "    <tr>\n",
       "      <th>1</th>\n",
       "      <td>-0.806565</td>\n",
       "      <td>0.303218</td>\n",
       "      <td>0.227826</td>\n",
       "      <td>0.179320</td>\n",
       "      <td>0.577043</td>\n",
       "      <td>-0.684461</td>\n",
       "      <td>0.585446</td>\n",
       "      <td>-0.053781</td>\n",
       "      <td>1.334905</td>\n",
       "      <td>-1.205877</td>\n",
       "      <td>...</td>\n",
       "      <td>-1.393646</td>\n",
       "      <td>-0.402106</td>\n",
       "      <td>0.132047</td>\n",
       "      <td>-1.271369</td>\n",
       "      <td>-0.027103</td>\n",
       "      <td>-0.319448</td>\n",
       "      <td>-0.496045</td>\n",
       "      <td>-0.250771</td>\n",
       "      <td>-0.679488</td>\n",
       "      <td>1.308636</td>\n",
       "    </tr>\n",
       "    <tr>\n",
       "      <th>2</th>\n",
       "      <td>-0.903786</td>\n",
       "      <td>0.222659</td>\n",
       "      <td>-1.652002</td>\n",
       "      <td>-2.256956</td>\n",
       "      <td>-1.054417</td>\n",
       "      <td>-0.003112</td>\n",
       "      <td>1.377584</td>\n",
       "      <td>0.952108</td>\n",
       "      <td>-0.271556</td>\n",
       "      <td>-0.393252</td>\n",
       "      <td>...</td>\n",
       "      <td>-0.420931</td>\n",
       "      <td>0.005548</td>\n",
       "      <td>0.227103</td>\n",
       "      <td>2.228029</td>\n",
       "      <td>0.759895</td>\n",
       "      <td>-0.202948</td>\n",
       "      <td>-1.129894</td>\n",
       "      <td>-0.103016</td>\n",
       "      <td>-0.728132</td>\n",
       "      <td>-2.226625</td>\n",
       "    </tr>\n",
       "    <tr>\n",
       "      <th>3</th>\n",
       "      <td>-0.330838</td>\n",
       "      <td>-0.012918</td>\n",
       "      <td>1.448387</td>\n",
       "      <td>1.657530</td>\n",
       "      <td>-3.141920</td>\n",
       "      <td>0.724120</td>\n",
       "      <td>1.643688</td>\n",
       "      <td>0.569500</td>\n",
       "      <td>0.334151</td>\n",
       "      <td>-0.526935</td>\n",
       "      <td>...</td>\n",
       "      <td>0.571991</td>\n",
       "      <td>0.048302</td>\n",
       "      <td>0.705328</td>\n",
       "      <td>0.483796</td>\n",
       "      <td>-0.102530</td>\n",
       "      <td>0.120436</td>\n",
       "      <td>-0.287843</td>\n",
       "      <td>0.998859</td>\n",
       "      <td>-0.761205</td>\n",
       "      <td>1.094508</td>\n",
       "    </tr>\n",
       "    <tr>\n",
       "      <th>4</th>\n",
       "      <td>-0.894998</td>\n",
       "      <td>0.021825</td>\n",
       "      <td>0.247303</td>\n",
       "      <td>-2.324897</td>\n",
       "      <td>-0.508906</td>\n",
       "      <td>1.284552</td>\n",
       "      <td>-0.449481</td>\n",
       "      <td>1.779248</td>\n",
       "      <td>-0.189376</td>\n",
       "      <td>0.080993</td>\n",
       "      <td>...</td>\n",
       "      <td>-1.008621</td>\n",
       "      <td>0.727476</td>\n",
       "      <td>-0.876193</td>\n",
       "      <td>0.304739</td>\n",
       "      <td>0.387677</td>\n",
       "      <td>-0.616143</td>\n",
       "      <td>-1.388281</td>\n",
       "      <td>1.252419</td>\n",
       "      <td>-0.650783</td>\n",
       "      <td>-0.059300</td>\n",
       "    </tr>\n",
       "  </tbody>\n",
       "</table>\n",
       "<p>5 rows × 30 columns</p>\n",
       "</div>"
      ],
      "text/plain": [
       "         x1        x2        x3        x4        x5        x6        x7  \\\n",
       "0 -1.008775 -0.968496 -1.835622 -0.032196 -1.485420  1.614947 -0.747164   \n",
       "1 -0.806565  0.303218  0.227826  0.179320  0.577043 -0.684461  0.585446   \n",
       "2 -0.903786  0.222659 -1.652002 -2.256956 -1.054417 -0.003112  1.377584   \n",
       "3 -0.330838 -0.012918  1.448387  1.657530 -3.141920  0.724120  1.643688   \n",
       "4 -0.894998  0.021825  0.247303 -2.324897 -0.508906  1.284552 -0.449481   \n",
       "\n",
       "         x8        x9       x10  ...       x21       x22       x23       x24  \\\n",
       "0 -0.627734  1.038359 -1.340893  ... -0.418507  0.322752  2.071710 -0.324901   \n",
       "1 -0.053781  1.334905 -1.205877  ... -1.393646 -0.402106  0.132047 -1.271369   \n",
       "2  0.952108 -0.271556 -0.393252  ... -0.420931  0.005548  0.227103  2.228029   \n",
       "3  0.569500  0.334151 -0.526935  ...  0.571991  0.048302  0.705328  0.483796   \n",
       "4  1.779248 -0.189376  0.080993  ... -1.008621  0.727476 -0.876193  0.304739   \n",
       "\n",
       "        x25       x26       x27       x28       x29       x30  \n",
       "0 -1.342910  1.406812 -0.052268 -1.847436 -0.064417  1.196338  \n",
       "1 -0.027103 -0.319448 -0.496045 -0.250771 -0.679488  1.308636  \n",
       "2  0.759895 -0.202948 -1.129894 -0.103016 -0.728132 -2.226625  \n",
       "3 -0.102530  0.120436 -0.287843  0.998859 -0.761205  1.094508  \n",
       "4  0.387677 -0.616143 -1.388281  1.252419 -0.650783 -0.059300  \n",
       "\n",
       "[5 rows x 30 columns]"
      ]
     },
     "execution_count": 16,
     "metadata": {},
     "output_type": "execute_result"
    }
   ],
   "source": [
    "X_pre=pd.DataFrame(X_pre,columns=cols)\n",
    "X_pre.head()"
   ]
  },
  {
   "cell_type": "markdown",
   "metadata": {},
   "source": [
    "### Train Test Split"
   ]
  },
  {
   "cell_type": "code",
   "execution_count": 17,
   "metadata": {},
   "outputs": [],
   "source": [
    "from sklearn.model_selection import train_test_split\n",
    "xtrain,xtest,ytrain,ytest=train_test_split(X_pre,Y,test_size=0.2,random_state=42)"
   ]
  },
  {
   "cell_type": "code",
   "execution_count": 18,
   "metadata": {},
   "outputs": [
    {
     "data": {
      "text/html": [
       "<div>\n",
       "<style scoped>\n",
       "    .dataframe tbody tr th:only-of-type {\n",
       "        vertical-align: middle;\n",
       "    }\n",
       "\n",
       "    .dataframe tbody tr th {\n",
       "        vertical-align: top;\n",
       "    }\n",
       "\n",
       "    .dataframe thead th {\n",
       "        text-align: right;\n",
       "    }\n",
       "</style>\n",
       "<table border=\"1\" class=\"dataframe\">\n",
       "  <thead>\n",
       "    <tr style=\"text-align: right;\">\n",
       "      <th></th>\n",
       "      <th>x1</th>\n",
       "      <th>x2</th>\n",
       "      <th>x3</th>\n",
       "      <th>x4</th>\n",
       "      <th>x5</th>\n",
       "      <th>x6</th>\n",
       "      <th>x7</th>\n",
       "      <th>x8</th>\n",
       "      <th>x9</th>\n",
       "      <th>x10</th>\n",
       "      <th>...</th>\n",
       "      <th>x21</th>\n",
       "      <th>x22</th>\n",
       "      <th>x23</th>\n",
       "      <th>x24</th>\n",
       "      <th>x25</th>\n",
       "      <th>x26</th>\n",
       "      <th>x27</th>\n",
       "      <th>x28</th>\n",
       "      <th>x29</th>\n",
       "      <th>x30</th>\n",
       "    </tr>\n",
       "  </thead>\n",
       "  <tbody>\n",
       "    <tr>\n",
       "      <th>4227</th>\n",
       "      <td>0.274306</td>\n",
       "      <td>-2.243030</td>\n",
       "      <td>0.307393</td>\n",
       "      <td>2.279325</td>\n",
       "      <td>-0.849919</td>\n",
       "      <td>-0.499417</td>\n",
       "      <td>0.063387</td>\n",
       "      <td>0.322236</td>\n",
       "      <td>-0.279113</td>\n",
       "      <td>-1.485297</td>\n",
       "      <td>...</td>\n",
       "      <td>-0.435550</td>\n",
       "      <td>0.016456</td>\n",
       "      <td>-0.478773</td>\n",
       "      <td>0.826978</td>\n",
       "      <td>0.348374</td>\n",
       "      <td>0.203044</td>\n",
       "      <td>-0.974020</td>\n",
       "      <td>1.133163</td>\n",
       "      <td>0.644459</td>\n",
       "      <td>1.026561</td>\n",
       "    </tr>\n",
       "    <tr>\n",
       "      <th>4676</th>\n",
       "      <td>-0.110889</td>\n",
       "      <td>-2.308274</td>\n",
       "      <td>-0.306657</td>\n",
       "      <td>-2.797217</td>\n",
       "      <td>0.744218</td>\n",
       "      <td>-1.215240</td>\n",
       "      <td>0.092720</td>\n",
       "      <td>-0.881949</td>\n",
       "      <td>0.099739</td>\n",
       "      <td>-0.153516</td>\n",
       "      <td>...</td>\n",
       "      <td>0.684150</td>\n",
       "      <td>-0.050237</td>\n",
       "      <td>0.659385</td>\n",
       "      <td>0.950390</td>\n",
       "      <td>-2.264741</td>\n",
       "      <td>-0.934321</td>\n",
       "      <td>-0.207092</td>\n",
       "      <td>-1.429908</td>\n",
       "      <td>0.477449</td>\n",
       "      <td>-0.143864</td>\n",
       "    </tr>\n",
       "    <tr>\n",
       "      <th>800</th>\n",
       "      <td>-0.534724</td>\n",
       "      <td>0.341340</td>\n",
       "      <td>-0.318392</td>\n",
       "      <td>1.233363</td>\n",
       "      <td>1.778518</td>\n",
       "      <td>0.298750</td>\n",
       "      <td>0.083038</td>\n",
       "      <td>0.104657</td>\n",
       "      <td>0.121582</td>\n",
       "      <td>1.150535</td>\n",
       "      <td>...</td>\n",
       "      <td>2.105502</td>\n",
       "      <td>0.100787</td>\n",
       "      <td>0.150310</td>\n",
       "      <td>0.796843</td>\n",
       "      <td>0.088543</td>\n",
       "      <td>1.044029</td>\n",
       "      <td>-0.691462</td>\n",
       "      <td>0.027791</td>\n",
       "      <td>-0.467562</td>\n",
       "      <td>1.088671</td>\n",
       "    </tr>\n",
       "    <tr>\n",
       "      <th>3671</th>\n",
       "      <td>-0.366200</td>\n",
       "      <td>1.081039</td>\n",
       "      <td>-0.920495</td>\n",
       "      <td>-1.060692</td>\n",
       "      <td>-0.616689</td>\n",
       "      <td>0.923926</td>\n",
       "      <td>1.178280</td>\n",
       "      <td>-2.049797</td>\n",
       "      <td>-0.133985</td>\n",
       "      <td>-1.437462</td>\n",
       "      <td>...</td>\n",
       "      <td>0.375930</td>\n",
       "      <td>0.799287</td>\n",
       "      <td>-1.524107</td>\n",
       "      <td>-0.213573</td>\n",
       "      <td>1.841831</td>\n",
       "      <td>-0.235666</td>\n",
       "      <td>-1.623648</td>\n",
       "      <td>0.003545</td>\n",
       "      <td>2.453793</td>\n",
       "      <td>-0.826658</td>\n",
       "    </tr>\n",
       "    <tr>\n",
       "      <th>4193</th>\n",
       "      <td>-0.834782</td>\n",
       "      <td>1.471498</td>\n",
       "      <td>-1.414701</td>\n",
       "      <td>-0.704299</td>\n",
       "      <td>2.131088</td>\n",
       "      <td>-0.208189</td>\n",
       "      <td>0.823199</td>\n",
       "      <td>0.547557</td>\n",
       "      <td>0.462746</td>\n",
       "      <td>-1.556602</td>\n",
       "      <td>...</td>\n",
       "      <td>-1.605144</td>\n",
       "      <td>0.394171</td>\n",
       "      <td>0.414800</td>\n",
       "      <td>0.015313</td>\n",
       "      <td>-1.559552</td>\n",
       "      <td>0.776827</td>\n",
       "      <td>-1.919909</td>\n",
       "      <td>1.235952</td>\n",
       "      <td>-1.425568</td>\n",
       "      <td>0.749621</td>\n",
       "    </tr>\n",
       "  </tbody>\n",
       "</table>\n",
       "<p>5 rows × 30 columns</p>\n",
       "</div>"
      ],
      "text/plain": [
       "            x1        x2        x3        x4        x5        x6        x7  \\\n",
       "4227  0.274306 -2.243030  0.307393  2.279325 -0.849919 -0.499417  0.063387   \n",
       "4676 -0.110889 -2.308274 -0.306657 -2.797217  0.744218 -1.215240  0.092720   \n",
       "800  -0.534724  0.341340 -0.318392  1.233363  1.778518  0.298750  0.083038   \n",
       "3671 -0.366200  1.081039 -0.920495 -1.060692 -0.616689  0.923926  1.178280   \n",
       "4193 -0.834782  1.471498 -1.414701 -0.704299  2.131088 -0.208189  0.823199   \n",
       "\n",
       "            x8        x9       x10  ...       x21       x22       x23  \\\n",
       "4227  0.322236 -0.279113 -1.485297  ... -0.435550  0.016456 -0.478773   \n",
       "4676 -0.881949  0.099739 -0.153516  ...  0.684150 -0.050237  0.659385   \n",
       "800   0.104657  0.121582  1.150535  ...  2.105502  0.100787  0.150310   \n",
       "3671 -2.049797 -0.133985 -1.437462  ...  0.375930  0.799287 -1.524107   \n",
       "4193  0.547557  0.462746 -1.556602  ... -1.605144  0.394171  0.414800   \n",
       "\n",
       "           x24       x25       x26       x27       x28       x29       x30  \n",
       "4227  0.826978  0.348374  0.203044 -0.974020  1.133163  0.644459  1.026561  \n",
       "4676  0.950390 -2.264741 -0.934321 -0.207092 -1.429908  0.477449 -0.143864  \n",
       "800   0.796843  0.088543  1.044029 -0.691462  0.027791 -0.467562  1.088671  \n",
       "3671 -0.213573  1.841831 -0.235666 -1.623648  0.003545  2.453793 -0.826658  \n",
       "4193  0.015313 -1.559552  0.776827 -1.919909  1.235952 -1.425568  0.749621  \n",
       "\n",
       "[5 rows x 30 columns]"
      ]
     },
     "execution_count": 18,
     "metadata": {},
     "output_type": "execute_result"
    }
   ],
   "source": [
    "xtrain.head()"
   ]
  },
  {
   "cell_type": "code",
   "execution_count": 19,
   "metadata": {},
   "outputs": [
    {
     "data": {
      "text/html": [
       "<div>\n",
       "<style scoped>\n",
       "    .dataframe tbody tr th:only-of-type {\n",
       "        vertical-align: middle;\n",
       "    }\n",
       "\n",
       "    .dataframe tbody tr th {\n",
       "        vertical-align: top;\n",
       "    }\n",
       "\n",
       "    .dataframe thead th {\n",
       "        text-align: right;\n",
       "    }\n",
       "</style>\n",
       "<table border=\"1\" class=\"dataframe\">\n",
       "  <thead>\n",
       "    <tr style=\"text-align: right;\">\n",
       "      <th></th>\n",
       "      <th>Y</th>\n",
       "    </tr>\n",
       "  </thead>\n",
       "  <tbody>\n",
       "    <tr>\n",
       "      <th>4227</th>\n",
       "      <td>421.295025</td>\n",
       "    </tr>\n",
       "    <tr>\n",
       "      <th>4676</th>\n",
       "      <td>-469.452726</td>\n",
       "    </tr>\n",
       "    <tr>\n",
       "      <th>800</th>\n",
       "      <td>42.172815</td>\n",
       "    </tr>\n",
       "    <tr>\n",
       "      <th>3671</th>\n",
       "      <td>114.083914</td>\n",
       "    </tr>\n",
       "    <tr>\n",
       "      <th>4193</th>\n",
       "      <td>-217.535707</td>\n",
       "    </tr>\n",
       "  </tbody>\n",
       "</table>\n",
       "</div>"
      ],
      "text/plain": [
       "               Y\n",
       "4227  421.295025\n",
       "4676 -469.452726\n",
       "800    42.172815\n",
       "3671  114.083914\n",
       "4193 -217.535707"
      ]
     },
     "execution_count": 19,
     "metadata": {},
     "output_type": "execute_result"
    }
   ],
   "source": [
    "ytrain.head()"
   ]
  },
  {
   "cell_type": "code",
   "execution_count": 20,
   "metadata": {},
   "outputs": [
    {
     "data": {
      "text/html": [
       "<div>\n",
       "<style scoped>\n",
       "    .dataframe tbody tr th:only-of-type {\n",
       "        vertical-align: middle;\n",
       "    }\n",
       "\n",
       "    .dataframe tbody tr th {\n",
       "        vertical-align: top;\n",
       "    }\n",
       "\n",
       "    .dataframe thead th {\n",
       "        text-align: right;\n",
       "    }\n",
       "</style>\n",
       "<table border=\"1\" class=\"dataframe\">\n",
       "  <thead>\n",
       "    <tr style=\"text-align: right;\">\n",
       "      <th></th>\n",
       "      <th>x1</th>\n",
       "      <th>x2</th>\n",
       "      <th>x3</th>\n",
       "      <th>x4</th>\n",
       "      <th>x5</th>\n",
       "      <th>x6</th>\n",
       "      <th>x7</th>\n",
       "      <th>x8</th>\n",
       "      <th>x9</th>\n",
       "      <th>x10</th>\n",
       "      <th>...</th>\n",
       "      <th>x21</th>\n",
       "      <th>x22</th>\n",
       "      <th>x23</th>\n",
       "      <th>x24</th>\n",
       "      <th>x25</th>\n",
       "      <th>x26</th>\n",
       "      <th>x27</th>\n",
       "      <th>x28</th>\n",
       "      <th>x29</th>\n",
       "      <th>x30</th>\n",
       "    </tr>\n",
       "  </thead>\n",
       "  <tbody>\n",
       "    <tr>\n",
       "      <th>1501</th>\n",
       "      <td>0.523841</td>\n",
       "      <td>0.380018</td>\n",
       "      <td>1.397668</td>\n",
       "      <td>1.832757</td>\n",
       "      <td>-0.050539</td>\n",
       "      <td>-0.370155</td>\n",
       "      <td>-0.415394</td>\n",
       "      <td>-1.015830</td>\n",
       "      <td>-0.468665</td>\n",
       "      <td>1.118904</td>\n",
       "      <td>...</td>\n",
       "      <td>-1.087076</td>\n",
       "      <td>0.280815</td>\n",
       "      <td>1.197157</td>\n",
       "      <td>-0.330182</td>\n",
       "      <td>-0.384110</td>\n",
       "      <td>0.456972</td>\n",
       "      <td>0.408793</td>\n",
       "      <td>0.229924</td>\n",
       "      <td>0.065080</td>\n",
       "      <td>-0.460325</td>\n",
       "    </tr>\n",
       "    <tr>\n",
       "      <th>2586</th>\n",
       "      <td>0.427962</td>\n",
       "      <td>0.736934</td>\n",
       "      <td>-1.337873</td>\n",
       "      <td>-0.286005</td>\n",
       "      <td>1.022151</td>\n",
       "      <td>-1.001614</td>\n",
       "      <td>1.835519</td>\n",
       "      <td>-1.545811</td>\n",
       "      <td>0.770498</td>\n",
       "      <td>0.293343</td>\n",
       "      <td>...</td>\n",
       "      <td>-0.316910</td>\n",
       "      <td>0.912012</td>\n",
       "      <td>-0.200186</td>\n",
       "      <td>0.895191</td>\n",
       "      <td>-1.340780</td>\n",
       "      <td>-0.398981</td>\n",
       "      <td>-1.299802</td>\n",
       "      <td>-1.160043</td>\n",
       "      <td>0.238474</td>\n",
       "      <td>-0.353788</td>\n",
       "    </tr>\n",
       "    <tr>\n",
       "      <th>2653</th>\n",
       "      <td>-1.237790</td>\n",
       "      <td>0.022987</td>\n",
       "      <td>0.591727</td>\n",
       "      <td>0.153331</td>\n",
       "      <td>-1.080162</td>\n",
       "      <td>0.695919</td>\n",
       "      <td>-0.224618</td>\n",
       "      <td>-1.372016</td>\n",
       "      <td>-0.465166</td>\n",
       "      <td>2.577988</td>\n",
       "      <td>...</td>\n",
       "      <td>0.420588</td>\n",
       "      <td>-0.927035</td>\n",
       "      <td>-1.260994</td>\n",
       "      <td>-0.041976</td>\n",
       "      <td>0.559996</td>\n",
       "      <td>-0.025339</td>\n",
       "      <td>0.715960</td>\n",
       "      <td>-2.211627</td>\n",
       "      <td>-0.158048</td>\n",
       "      <td>0.088334</td>\n",
       "    </tr>\n",
       "    <tr>\n",
       "      <th>1055</th>\n",
       "      <td>1.163302</td>\n",
       "      <td>0.829281</td>\n",
       "      <td>-0.052936</td>\n",
       "      <td>0.871349</td>\n",
       "      <td>0.526932</td>\n",
       "      <td>-0.469475</td>\n",
       "      <td>0.681055</td>\n",
       "      <td>2.525169</td>\n",
       "      <td>0.805937</td>\n",
       "      <td>-0.311984</td>\n",
       "      <td>...</td>\n",
       "      <td>-0.363881</td>\n",
       "      <td>-1.270352</td>\n",
       "      <td>-0.114835</td>\n",
       "      <td>-0.838927</td>\n",
       "      <td>0.522602</td>\n",
       "      <td>0.531030</td>\n",
       "      <td>-0.113249</td>\n",
       "      <td>-0.130759</td>\n",
       "      <td>-1.530358</td>\n",
       "      <td>0.355058</td>\n",
       "    </tr>\n",
       "    <tr>\n",
       "      <th>705</th>\n",
       "      <td>-0.916867</td>\n",
       "      <td>-0.873641</td>\n",
       "      <td>0.964425</td>\n",
       "      <td>-3.404521</td>\n",
       "      <td>-0.352093</td>\n",
       "      <td>0.141089</td>\n",
       "      <td>0.059867</td>\n",
       "      <td>-0.401822</td>\n",
       "      <td>0.274345</td>\n",
       "      <td>1.985234</td>\n",
       "      <td>...</td>\n",
       "      <td>-0.846910</td>\n",
       "      <td>1.259358</td>\n",
       "      <td>-0.624477</td>\n",
       "      <td>0.947502</td>\n",
       "      <td>0.249482</td>\n",
       "      <td>-0.340038</td>\n",
       "      <td>-0.624088</td>\n",
       "      <td>0.983280</td>\n",
       "      <td>1.321964</td>\n",
       "      <td>0.613101</td>\n",
       "    </tr>\n",
       "  </tbody>\n",
       "</table>\n",
       "<p>5 rows × 30 columns</p>\n",
       "</div>"
      ],
      "text/plain": [
       "            x1        x2        x3        x4        x5        x6        x7  \\\n",
       "1501  0.523841  0.380018  1.397668  1.832757 -0.050539 -0.370155 -0.415394   \n",
       "2586  0.427962  0.736934 -1.337873 -0.286005  1.022151 -1.001614  1.835519   \n",
       "2653 -1.237790  0.022987  0.591727  0.153331 -1.080162  0.695919 -0.224618   \n",
       "1055  1.163302  0.829281 -0.052936  0.871349  0.526932 -0.469475  0.681055   \n",
       "705  -0.916867 -0.873641  0.964425 -3.404521 -0.352093  0.141089  0.059867   \n",
       "\n",
       "            x8        x9       x10  ...       x21       x22       x23  \\\n",
       "1501 -1.015830 -0.468665  1.118904  ... -1.087076  0.280815  1.197157   \n",
       "2586 -1.545811  0.770498  0.293343  ... -0.316910  0.912012 -0.200186   \n",
       "2653 -1.372016 -0.465166  2.577988  ...  0.420588 -0.927035 -1.260994   \n",
       "1055  2.525169  0.805937 -0.311984  ... -0.363881 -1.270352 -0.114835   \n",
       "705  -0.401822  0.274345  1.985234  ... -0.846910  1.259358 -0.624477   \n",
       "\n",
       "           x24       x25       x26       x27       x28       x29       x30  \n",
       "1501 -0.330182 -0.384110  0.456972  0.408793  0.229924  0.065080 -0.460325  \n",
       "2586  0.895191 -1.340780 -0.398981 -1.299802 -1.160043  0.238474 -0.353788  \n",
       "2653 -0.041976  0.559996 -0.025339  0.715960 -2.211627 -0.158048  0.088334  \n",
       "1055 -0.838927  0.522602  0.531030 -0.113249 -0.130759 -1.530358  0.355058  \n",
       "705   0.947502  0.249482 -0.340038 -0.624088  0.983280  1.321964  0.613101  \n",
       "\n",
       "[5 rows x 30 columns]"
      ]
     },
     "execution_count": 20,
     "metadata": {},
     "output_type": "execute_result"
    }
   ],
   "source": [
    "xtest.head()"
   ]
  },
  {
   "cell_type": "code",
   "execution_count": 21,
   "metadata": {},
   "outputs": [
    {
     "data": {
      "text/html": [
       "<div>\n",
       "<style scoped>\n",
       "    .dataframe tbody tr th:only-of-type {\n",
       "        vertical-align: middle;\n",
       "    }\n",
       "\n",
       "    .dataframe tbody tr th {\n",
       "        vertical-align: top;\n",
       "    }\n",
       "\n",
       "    .dataframe thead th {\n",
       "        text-align: right;\n",
       "    }\n",
       "</style>\n",
       "<table border=\"1\" class=\"dataframe\">\n",
       "  <thead>\n",
       "    <tr style=\"text-align: right;\">\n",
       "      <th></th>\n",
       "      <th>Y</th>\n",
       "    </tr>\n",
       "  </thead>\n",
       "  <tbody>\n",
       "    <tr>\n",
       "      <th>1501</th>\n",
       "      <td>297.782677</td>\n",
       "    </tr>\n",
       "    <tr>\n",
       "      <th>2586</th>\n",
       "      <td>-55.418700</td>\n",
       "    </tr>\n",
       "    <tr>\n",
       "      <th>2653</th>\n",
       "      <td>-181.896454</td>\n",
       "    </tr>\n",
       "    <tr>\n",
       "      <th>1055</th>\n",
       "      <td>210.251382</td>\n",
       "    </tr>\n",
       "    <tr>\n",
       "      <th>705</th>\n",
       "      <td>188.412050</td>\n",
       "    </tr>\n",
       "  </tbody>\n",
       "</table>\n",
       "</div>"
      ],
      "text/plain": [
       "               Y\n",
       "1501  297.782677\n",
       "2586  -55.418700\n",
       "2653 -181.896454\n",
       "1055  210.251382\n",
       "705   188.412050"
      ]
     },
     "execution_count": 21,
     "metadata": {},
     "output_type": "execute_result"
    }
   ],
   "source": [
    "ytest.head()"
   ]
  },
  {
   "cell_type": "code",
   "execution_count": 22,
   "metadata": {},
   "outputs": [
    {
     "data": {
      "text/plain": [
       "(4000, 30)"
      ]
     },
     "execution_count": 22,
     "metadata": {},
     "output_type": "execute_result"
    }
   ],
   "source": [
    "xtrain.shape"
   ]
  },
  {
   "cell_type": "code",
   "execution_count": 23,
   "metadata": {},
   "outputs": [
    {
     "data": {
      "text/plain": [
       "(1000, 30)"
      ]
     },
     "execution_count": 23,
     "metadata": {},
     "output_type": "execute_result"
    }
   ],
   "source": [
    "xtest.shape"
   ]
  },
  {
   "cell_type": "code",
   "execution_count": 24,
   "metadata": {},
   "outputs": [
    {
     "data": {
      "text/plain": [
       "30"
      ]
     },
     "execution_count": 24,
     "metadata": {},
     "output_type": "execute_result"
    }
   ],
   "source": [
    "xtrain.shape[1]"
   ]
  },
  {
   "cell_type": "markdown",
   "metadata": {},
   "source": [
    "### Create a neural network with Keras"
   ]
  },
  {
   "attachments": {
    "image.png": {
     "image/png": "[encoded data removed]"
    }
   },
   "cell_type": "markdown",
   "metadata": {},
   "source": [
    "![image.png](attachment:image.png)"
   ]
  },
  {
   "cell_type": "code",
   "execution_count": 26,
   "metadata": {},
   "outputs": [],
   "source": [
    "from keras.models import Sequential\n",
    "from keras.layers import Dense"
   ]
  },
  {
   "cell_type": "code",
   "execution_count": 27,
   "metadata": {},
   "outputs": [
    {
     "name": "stdout",
     "output_type": "stream",
     "text": [
      "WARNING:tensorflow:From c:\\deep learning 2-4\\.venv\\Lib\\site-packages\\keras\\src\\backend.py:873: The name tf.get_default_graph is deprecated. Please use tf.compat.v1.get_default_graph instead.\n",
      "\n"
     ]
    }
   ],
   "source": [
    "# Initialize Sequential model\n",
    "model=Sequential()\n",
    "\n",
    "# Hidden Layer 1\n",
    "model.add(Dense(64,activation='relu',input_dim=xtrain.shape[1]))\n",
    "# Hidden layer 2\n",
    "model.add(Dense(32,activation='relu'))\n",
    "# Output layer\n",
    "model.add(Dense(1,activation='linear'))"
   ]
  },
  {
   "cell_type": "code",
   "execution_count": 28,
   "metadata": {},
   "outputs": [
    {
     "name": "stdout",
     "output_type": "stream",
     "text": [
      "Model: \"sequential\"\n",
      "_________________________________________________________________\n",
      " Layer (type)                Output Shape              Param #   \n",
      "=================================================================\n",
      " dense (Dense)               (None, 64)                1984      \n",
      "                                                                 \n",
      " dense_1 (Dense)             (None, 32)                2080      \n",
      "                                                                 \n",
      " dense_2 (Dense)             (None, 1)                 33        \n",
      "                                                                 \n",
      "=================================================================\n",
      "Total params: 4097 (16.00 KB)\n",
      "Trainable params: 4097 (16.00 KB)\n",
      "Non-trainable params: 0 (0.00 Byte)\n",
      "_________________________________________________________________\n"
     ]
    }
   ],
   "source": [
    "model.summary()"
   ]
  },
  {
   "cell_type": "markdown",
   "metadata": {},
   "source": [
    "### Compile the model"
   ]
  },
  {
   "cell_type": "code",
   "execution_count": 29,
   "metadata": {},
   "outputs": [
    {
     "name": "stdout",
     "output_type": "stream",
     "text": [
      "WARNING:tensorflow:From c:\\deep learning 2-4\\.venv\\Lib\\site-packages\\keras\\src\\optimizers\\__init__.py:309: The name tf.train.Optimizer is deprecated. Please use tf.compat.v1.train.Optimizer instead.\n",
      "\n"
     ]
    }
   ],
   "source": [
    "model.compile(optimizer='adam',loss='mse',metrics=['mae'])"
   ]
  },
  {
   "attachments": {
    "image.png": {
     "image/png": "[encoded data removed]"
    }
   },
   "cell_type": "markdown",
   "metadata": {},
   "source": [
    "### Training the neural network\n",
    "![image.png](attachment:image.png)\n"
   ]
  },
  {
   "cell_type": "code",
   "execution_count": 30,
   "metadata": {},
   "outputs": [
    {
     "name": "stdout",
     "output_type": "stream",
     "text": [
      "Epoch 1/100\n",
      "WARNING:tensorflow:From c:\\deep learning 2-4\\.venv\\Lib\\site-packages\\keras\\src\\utils\\tf_utils.py:492: The name tf.ragged.RaggedTensorValue is deprecated. Please use tf.compat.v1.ragged.RaggedTensorValue instead.\n",
      "\n",
      "WARNING:tensorflow:From c:\\deep learning 2-4\\.venv\\Lib\\site-packages\\keras\\src\\engine\\base_layer_utils.py:384: The name tf.executing_eagerly_outside_functions is deprecated. Please use tf.compat.v1.executing_eagerly_outside_functions instead.\n",
      "\n",
      "100/100 [==============================] - 1s 3ms/step - loss: 66800.3672 - mae: 207.1437 - val_loss: 67713.8984 - val_mae: 207.2198\n",
      "Epoch 2/100\n",
      "100/100 [==============================] - 0s 1ms/step - loss: 54512.5742 - mae: 185.7834 - val_loss: 41818.2734 - val_mae: 159.6886\n",
      "Epoch 3/100\n",
      "100/100 [==============================] - 0s 1ms/step - loss: 20629.4805 - mae: 105.5913 - val_loss: 6515.7930 - val_mae: 56.4023\n",
      "Epoch 4/100\n",
      "100/100 [==============================] - 0s 1ms/step - loss: 2240.8572 - mae: 32.3774 - val_loss: 1107.7042 - val_mae: 25.4582\n",
      "Epoch 5/100\n",
      "100/100 [==============================] - 0s 1ms/step - loss: 712.4590 - mae: 19.9928 - val_loss: 559.0884 - val_mae: 17.7108\n",
      "Epoch 6/100\n",
      "100/100 [==============================] - 0s 1ms/step - loss: 447.0253 - mae: 16.0985 - val_loss: 444.4582 - val_mae: 16.2869\n",
      "Epoch 7/100\n",
      "100/100 [==============================] - 0s 1ms/step - loss: 399.8791 - mae: 15.5874 - val_loss: 419.1144 - val_mae: 15.8493\n",
      "Epoch 8/100\n",
      "100/100 [==============================] - 0s 1ms/step - loss: 376.3347 - mae: 15.0654 - val_loss: 390.5961 - val_mae: 15.5016\n",
      "Epoch 9/100\n",
      "100/100 [==============================] - 0s 1ms/step - loss: 356.8293 - mae: 14.7479 - val_loss: 377.5458 - val_mae: 15.1500\n",
      "Epoch 10/100\n",
      "100/100 [==============================] - 0s 1ms/step - loss: 338.2279 - mae: 14.3873 - val_loss: 358.8013 - val_mae: 14.6848\n",
      "Epoch 11/100\n",
      "100/100 [==============================] - 0s 1ms/step - loss: 320.6590 - mae: 13.9259 - val_loss: 341.7204 - val_mae: 14.3058\n",
      "Epoch 12/100\n",
      "100/100 [==============================] - 0s 1ms/step - loss: 301.8134 - mae: 13.5239 - val_loss: 322.1905 - val_mae: 14.0927\n",
      "Epoch 13/100\n",
      "100/100 [==============================] - 0s 1ms/step - loss: 284.8599 - mae: 13.1620 - val_loss: 318.0116 - val_mae: 14.0594\n",
      "Epoch 14/100\n",
      "100/100 [==============================] - 0s 1ms/step - loss: 269.6371 - mae: 12.7671 - val_loss: 298.8126 - val_mae: 13.7577\n",
      "Epoch 15/100\n",
      "100/100 [==============================] - 0s 1ms/step - loss: 253.4711 - mae: 12.4486 - val_loss: 286.6959 - val_mae: 13.3003\n",
      "Epoch 16/100\n",
      "100/100 [==============================] - 0s 1ms/step - loss: 239.3108 - mae: 12.0702 - val_loss: 270.8807 - val_mae: 12.9868\n",
      "Epoch 17/100\n",
      "100/100 [==============================] - 0s 1ms/step - loss: 224.6309 - mae: 11.6902 - val_loss: 256.9464 - val_mae: 12.6719\n",
      "Epoch 18/100\n",
      "100/100 [==============================] - 0s 1ms/step - loss: 209.3523 - mae: 11.2873 - val_loss: 248.2911 - val_mae: 12.5155\n",
      "Epoch 19/100\n",
      "100/100 [==============================] - 0s 1ms/step - loss: 197.4355 - mae: 11.0158 - val_loss: 236.8142 - val_mae: 12.1439\n",
      "Epoch 20/100\n",
      "100/100 [==============================] - 0s 1ms/step - loss: 189.0553 - mae: 10.6871 - val_loss: 223.3415 - val_mae: 11.8799\n",
      "Epoch 21/100\n",
      "100/100 [==============================] - 0s 1ms/step - loss: 175.8904 - mae: 10.3995 - val_loss: 219.6816 - val_mae: 11.8910\n",
      "Epoch 22/100\n",
      "100/100 [==============================] - 0s 1ms/step - loss: 163.8070 - mae: 10.0573 - val_loss: 204.0209 - val_mae: 11.3367\n",
      "Epoch 23/100\n",
      "100/100 [==============================] - 0s 1ms/step - loss: 155.8020 - mae: 9.8103 - val_loss: 193.4709 - val_mae: 11.0954\n",
      "Epoch 24/100\n",
      "100/100 [==============================] - 0s 1ms/step - loss: 146.1469 - mae: 9.5100 - val_loss: 189.1899 - val_mae: 10.9608\n",
      "Epoch 25/100\n",
      "100/100 [==============================] - 0s 1ms/step - loss: 137.6920 - mae: 9.2593 - val_loss: 186.0781 - val_mae: 10.8284\n",
      "Epoch 26/100\n",
      "100/100 [==============================] - 0s 1ms/step - loss: 130.1860 - mae: 8.9936 - val_loss: 177.3481 - val_mae: 10.6685\n",
      "Epoch 27/100\n",
      "100/100 [==============================] - 0s 1ms/step - loss: 125.2673 - mae: 8.8706 - val_loss: 164.6532 - val_mae: 10.3096\n",
      "Epoch 28/100\n",
      "100/100 [==============================] - 0s 1ms/step - loss: 118.1782 - mae: 8.5771 - val_loss: 162.6484 - val_mae: 10.2159\n",
      "Epoch 29/100\n",
      "100/100 [==============================] - 0s 1ms/step - loss: 114.7283 - mae: 8.4957 - val_loss: 160.6925 - val_mae: 10.1197\n",
      "Epoch 30/100\n",
      "100/100 [==============================] - 0s 1ms/step - loss: 109.0971 - mae: 8.2786 - val_loss: 153.1260 - val_mae: 9.9196\n",
      "Epoch 31/100\n",
      "100/100 [==============================] - 0s 1ms/step - loss: 104.6207 - mae: 8.0845 - val_loss: 149.4598 - val_mae: 9.8408\n",
      "Epoch 32/100\n",
      "100/100 [==============================] - 0s 1ms/step - loss: 101.6824 - mae: 7.9933 - val_loss: 151.0193 - val_mae: 9.8446\n",
      "Epoch 33/100\n",
      "100/100 [==============================] - 0s 1ms/step - loss: 97.6306 - mae: 7.8714 - val_loss: 144.1859 - val_mae: 9.6784\n",
      "Epoch 34/100\n",
      "100/100 [==============================] - 0s 1ms/step - loss: 97.5921 - mae: 7.7878 - val_loss: 144.0479 - val_mae: 9.7183\n",
      "Epoch 35/100\n",
      "100/100 [==============================] - 0s 1ms/step - loss: 92.7869 - mae: 7.5995 - val_loss: 143.0281 - val_mae: 9.6685\n",
      "Epoch 36/100\n",
      "100/100 [==============================] - 0s 1ms/step - loss: 91.2368 - mae: 7.5676 - val_loss: 136.3929 - val_mae: 9.4569\n",
      "Epoch 37/100\n",
      "100/100 [==============================] - 0s 1ms/step - loss: 89.7591 - mae: 7.5035 - val_loss: 146.2857 - val_mae: 9.7224\n",
      "Epoch 38/100\n",
      "100/100 [==============================] - 0s 1ms/step - loss: 88.3578 - mae: 7.4416 - val_loss: 139.8690 - val_mae: 9.5221\n",
      "Epoch 39/100\n",
      "100/100 [==============================] - 0s 1ms/step - loss: 86.3820 - mae: 7.3541 - val_loss: 136.5334 - val_mae: 9.4053\n",
      "Epoch 40/100\n",
      "100/100 [==============================] - 0s 1ms/step - loss: 85.3956 - mae: 7.2653 - val_loss: 138.5836 - val_mae: 9.4490\n",
      "Epoch 41/100\n",
      "100/100 [==============================] - 0s 1ms/step - loss: 84.4248 - mae: 7.2881 - val_loss: 139.0816 - val_mae: 9.5001\n",
      "Epoch 42/100\n",
      "100/100 [==============================] - 0s 1ms/step - loss: 82.9166 - mae: 7.1782 - val_loss: 138.0719 - val_mae: 9.4589\n",
      "Epoch 43/100\n",
      "100/100 [==============================] - 0s 1ms/step - loss: 81.5198 - mae: 7.1547 - val_loss: 137.9312 - val_mae: 9.4388\n",
      "Epoch 44/100\n",
      "100/100 [==============================] - 0s 1ms/step - loss: 81.5283 - mae: 7.1449 - val_loss: 136.9084 - val_mae: 9.3905\n",
      "Epoch 45/100\n",
      "100/100 [==============================] - 0s 1ms/step - loss: 81.3291 - mae: 7.1427 - val_loss: 132.5597 - val_mae: 9.2763\n",
      "Epoch 46/100\n",
      "100/100 [==============================] - 0s 1ms/step - loss: 79.9867 - mae: 7.0506 - val_loss: 134.2045 - val_mae: 9.3168\n",
      "Epoch 47/100\n",
      "100/100 [==============================] - 0s 1ms/step - loss: 79.3452 - mae: 7.0225 - val_loss: 136.5724 - val_mae: 9.3970\n",
      "Epoch 48/100\n",
      "100/100 [==============================] - 0s 1ms/step - loss: 77.7353 - mae: 6.9657 - val_loss: 134.7590 - val_mae: 9.3106\n",
      "Epoch 49/100\n",
      "100/100 [==============================] - 0s 1ms/step - loss: 77.3487 - mae: 6.9108 - val_loss: 133.2905 - val_mae: 9.2476\n",
      "Epoch 50/100\n",
      "100/100 [==============================] - 0s 1ms/step - loss: 77.1206 - mae: 6.9420 - val_loss: 140.0499 - val_mae: 9.4021\n",
      "Epoch 51/100\n",
      "100/100 [==============================] - 0s 1ms/step - loss: 77.5632 - mae: 6.9420 - val_loss: 136.5871 - val_mae: 9.3411\n",
      "Epoch 52/100\n",
      "100/100 [==============================] - 0s 1ms/step - loss: 75.9038 - mae: 6.8679 - val_loss: 133.8977 - val_mae: 9.2398\n",
      "Epoch 53/100\n",
      "100/100 [==============================] - 0s 1ms/step - loss: 75.0582 - mae: 6.8172 - val_loss: 138.5421 - val_mae: 9.4274\n",
      "Epoch 54/100\n",
      "100/100 [==============================] - 0s 1ms/step - loss: 74.7761 - mae: 6.8072 - val_loss: 138.9152 - val_mae: 9.4614\n",
      "Epoch 55/100\n",
      "100/100 [==============================] - 0s 1ms/step - loss: 74.9434 - mae: 6.7934 - val_loss: 137.1609 - val_mae: 9.3124\n",
      "Epoch 56/100\n",
      "100/100 [==============================] - 0s 1ms/step - loss: 74.1832 - mae: 6.7364 - val_loss: 133.5595 - val_mae: 9.2443\n",
      "Epoch 57/100\n",
      "100/100 [==============================] - 0s 1ms/step - loss: 73.6113 - mae: 6.7369 - val_loss: 133.4226 - val_mae: 9.2777\n",
      "Epoch 58/100\n",
      "100/100 [==============================] - 0s 1ms/step - loss: 72.4143 - mae: 6.7075 - val_loss: 140.0924 - val_mae: 9.4554\n",
      "Epoch 59/100\n",
      "100/100 [==============================] - 0s 1ms/step - loss: 72.7121 - mae: 6.6913 - val_loss: 141.8706 - val_mae: 9.4780\n",
      "Epoch 60/100\n",
      "100/100 [==============================] - 0s 1ms/step - loss: 72.1870 - mae: 6.6848 - val_loss: 133.5413 - val_mae: 9.2233\n",
      "Epoch 61/100\n",
      "100/100 [==============================] - 0s 1ms/step - loss: 71.2925 - mae: 6.6554 - val_loss: 140.5506 - val_mae: 9.4671\n",
      "Epoch 62/100\n",
      "100/100 [==============================] - 0s 1ms/step - loss: 73.1436 - mae: 6.7025 - val_loss: 136.0458 - val_mae: 9.3688\n",
      "Epoch 63/100\n",
      "100/100 [==============================] - 0s 1ms/step - loss: 70.0154 - mae: 6.5839 - val_loss: 133.3328 - val_mae: 9.2559\n",
      "Epoch 64/100\n",
      "100/100 [==============================] - 0s 1ms/step - loss: 70.5876 - mae: 6.5977 - val_loss: 135.5656 - val_mae: 9.3482\n",
      "Epoch 65/100\n",
      "100/100 [==============================] - 0s 1ms/step - loss: 70.1975 - mae: 6.5321 - val_loss: 136.1320 - val_mae: 9.3467\n",
      "Epoch 66/100\n",
      "100/100 [==============================] - 0s 1ms/step - loss: 69.5942 - mae: 6.5371 - val_loss: 136.4053 - val_mae: 9.3441\n",
      "Epoch 67/100\n",
      "100/100 [==============================] - 0s 1ms/step - loss: 67.8685 - mae: 6.4751 - val_loss: 136.2727 - val_mae: 9.3652\n",
      "Epoch 68/100\n",
      "100/100 [==============================] - 0s 1ms/step - loss: 67.6673 - mae: 6.4504 - val_loss: 136.7010 - val_mae: 9.3275\n",
      "Epoch 69/100\n",
      "100/100 [==============================] - 0s 1ms/step - loss: 68.1584 - mae: 6.4966 - val_loss: 137.3138 - val_mae: 9.3721\n",
      "Epoch 70/100\n",
      "100/100 [==============================] - 0s 1ms/step - loss: 67.9411 - mae: 6.4691 - val_loss: 138.3804 - val_mae: 9.4554\n",
      "Epoch 71/100\n",
      "100/100 [==============================] - 0s 1ms/step - loss: 68.8909 - mae: 6.5353 - val_loss: 143.6193 - val_mae: 9.4807\n",
      "Epoch 72/100\n",
      "100/100 [==============================] - 0s 1ms/step - loss: 66.6030 - mae: 6.4197 - val_loss: 134.1789 - val_mae: 9.2472\n",
      "Epoch 73/100\n",
      "100/100 [==============================] - 0s 1ms/step - loss: 65.3965 - mae: 6.3401 - val_loss: 139.8845 - val_mae: 9.4310\n",
      "Epoch 74/100\n",
      "100/100 [==============================] - 0s 1ms/step - loss: 65.6581 - mae: 6.3253 - val_loss: 136.9051 - val_mae: 9.3586\n",
      "Epoch 75/100\n",
      "100/100 [==============================] - 0s 1ms/step - loss: 67.4305 - mae: 6.4325 - val_loss: 142.0836 - val_mae: 9.4599\n",
      "Epoch 76/100\n",
      "100/100 [==============================] - 0s 1ms/step - loss: 66.5504 - mae: 6.3800 - val_loss: 139.2134 - val_mae: 9.3950\n",
      "Epoch 77/100\n",
      "100/100 [==============================] - 0s 1ms/step - loss: 65.9343 - mae: 6.3923 - val_loss: 142.5259 - val_mae: 9.4800\n",
      "Epoch 78/100\n",
      "100/100 [==============================] - 0s 1ms/step - loss: 64.5693 - mae: 6.2955 - val_loss: 148.0501 - val_mae: 9.6864\n",
      "Epoch 79/100\n",
      "100/100 [==============================] - 0s 1ms/step - loss: 65.4964 - mae: 6.3558 - val_loss: 138.9167 - val_mae: 9.4177\n",
      "Epoch 80/100\n",
      "100/100 [==============================] - 0s 1ms/step - loss: 64.8395 - mae: 6.3033 - val_loss: 138.7958 - val_mae: 9.3754\n",
      "Epoch 81/100\n",
      "100/100 [==============================] - 0s 1ms/step - loss: 63.5016 - mae: 6.2268 - val_loss: 139.6680 - val_mae: 9.4447\n",
      "Epoch 82/100\n",
      "100/100 [==============================] - 0s 1ms/step - loss: 63.4252 - mae: 6.2128 - val_loss: 137.9037 - val_mae: 9.4089\n",
      "Epoch 83/100\n",
      "100/100 [==============================] - 0s 1ms/step - loss: 64.1795 - mae: 6.2619 - val_loss: 139.4973 - val_mae: 9.4128\n",
      "Epoch 84/100\n",
      "100/100 [==============================] - 0s 1ms/step - loss: 63.1277 - mae: 6.2232 - val_loss: 138.1541 - val_mae: 9.4302\n",
      "Epoch 85/100\n",
      "100/100 [==============================] - 0s 1ms/step - loss: 63.7061 - mae: 6.2364 - val_loss: 136.8904 - val_mae: 9.3694\n",
      "Epoch 86/100\n",
      "100/100 [==============================] - 0s 1ms/step - loss: 61.5818 - mae: 6.1324 - val_loss: 140.0620 - val_mae: 9.4118\n",
      "Epoch 87/100\n",
      "100/100 [==============================] - 0s 1ms/step - loss: 62.3815 - mae: 6.1590 - val_loss: 136.7000 - val_mae: 9.4222\n",
      "Epoch 88/100\n",
      "100/100 [==============================] - 0s 1ms/step - loss: 62.7358 - mae: 6.1453 - val_loss: 135.3678 - val_mae: 9.3443\n",
      "Epoch 89/100\n",
      "100/100 [==============================] - 0s 1ms/step - loss: 61.4845 - mae: 6.1001 - val_loss: 144.9108 - val_mae: 9.5707\n",
      "Epoch 90/100\n",
      "100/100 [==============================] - 0s 1ms/step - loss: 62.0969 - mae: 6.1037 - val_loss: 139.0071 - val_mae: 9.4962\n",
      "Epoch 91/100\n",
      "100/100 [==============================] - 0s 1ms/step - loss: 62.4405 - mae: 6.1248 - val_loss: 139.1283 - val_mae: 9.4846\n",
      "Epoch 92/100\n",
      "100/100 [==============================] - 0s 1ms/step - loss: 60.6217 - mae: 6.0582 - val_loss: 141.1029 - val_mae: 9.4425\n",
      "Epoch 93/100\n",
      "100/100 [==============================] - 0s 1ms/step - loss: 62.4389 - mae: 6.1547 - val_loss: 143.6973 - val_mae: 9.5035\n",
      "Epoch 94/100\n",
      "100/100 [==============================] - 0s 1ms/step - loss: 60.1702 - mae: 6.0525 - val_loss: 144.5057 - val_mae: 9.6363\n",
      "Epoch 95/100\n",
      "100/100 [==============================] - 0s 1ms/step - loss: 59.7225 - mae: 6.0478 - val_loss: 141.8162 - val_mae: 9.5585\n",
      "Epoch 96/100\n",
      "100/100 [==============================] - 0s 1ms/step - loss: 60.1274 - mae: 6.0339 - val_loss: 143.0984 - val_mae: 9.4898\n",
      "Epoch 97/100\n",
      "100/100 [==============================] - 0s 1ms/step - loss: 59.6809 - mae: 6.0344 - val_loss: 142.3625 - val_mae: 9.5522\n",
      "Epoch 98/100\n",
      "100/100 [==============================] - 0s 1ms/step - loss: 60.0048 - mae: 6.0215 - val_loss: 140.1405 - val_mae: 9.4935\n",
      "Epoch 99/100\n",
      "100/100 [==============================] - 0s 1ms/step - loss: 59.2449 - mae: 6.0267 - val_loss: 140.3610 - val_mae: 9.5111\n",
      "Epoch 100/100\n",
      "100/100 [==============================] - 0s 1ms/step - loss: 59.6814 - mae: 5.9787 - val_loss: 138.9092 - val_mae: 9.4409\n"
     ]
    }
   ],
   "source": [
    "hist=model.fit(xtrain,ytrain,validation_split=0.2,epochs=100)"
   ]
  },
  {
   "cell_type": "code",
   "execution_count": 31,
   "metadata": {},
   "outputs": [
    {
     "data": {
      "text/plain": [
       "[66800.3671875,\n",
       " 54512.57421875,\n",
       " 20629.48046875,\n",
       " 2240.857177734375,\n",
       " 712.4590454101562,\n",
       " 447.0252685546875,\n",
       " 399.8790588378906,\n",
       " 376.334716796875,\n",
       " 356.82928466796875,\n",
       " 338.2279357910156,\n",
       " 320.65899658203125,\n",
       " 301.81341552734375,\n",
       " 284.8598937988281,\n",
       " 269.6370544433594,\n",
       " 253.47109985351562,\n",
       " 239.31076049804688,\n",
       " 224.63087463378906,\n",
       " 209.3523406982422,\n",
       " 197.43548583984375,\n",
       " 189.0552520751953,\n",
       " 175.89039611816406,\n",
       " 163.8070068359375,\n",
       " 155.80201721191406,\n",
       " 146.1468963623047,\n",
       " 137.6919708251953,\n",
       " 130.1859893798828,\n",
       " 125.26725769042969,\n",
       " 118.17822265625,\n",
       " 114.728271484375,\n",
       " 109.0971450805664,\n",
       " 104.62073516845703,\n",
       " 101.68244171142578,\n",
       " 97.63056945800781,\n",
       " 97.59211730957031,\n",
       " 92.78685760498047,\n",
       " 91.23678588867188,\n",
       " 89.7590560913086,\n",
       " 88.35784149169922,\n",
       " 86.38198852539062,\n",
       " 85.39563751220703,\n",
       " 84.42484283447266,\n",
       " 82.91663360595703,\n",
       " 81.51980590820312,\n",
       " 81.52826690673828,\n",
       " 81.3290786743164,\n",
       " 79.98672485351562,\n",
       " 79.34521484375,\n",
       " 77.7353286743164,\n",
       " 77.34867858886719,\n",
       " 77.12055969238281,\n",
       " 77.56321716308594,\n",
       " 75.90381622314453,\n",
       " 75.0582046508789,\n",
       " 74.7761001586914,\n",
       " 74.94342041015625,\n",
       " 74.18321990966797,\n",
       " 73.61134338378906,\n",
       " 72.41426086425781,\n",
       " 72.71214294433594,\n",
       " 72.18696594238281,\n",
       " 71.29247283935547,\n",
       " 73.14360046386719,\n",
       " 70.0154037475586,\n",
       " 70.58757781982422,\n",
       " 70.19750213623047,\n",
       " 69.59422302246094,\n",
       " 67.86849212646484,\n",
       " 67.66725158691406,\n",
       " 68.15841674804688,\n",
       " 67.94110870361328,\n",
       " 68.89086151123047,\n",
       " 66.60303497314453,\n",
       " 65.39647674560547,\n",
       " 65.6580810546875,\n",
       " 67.43053436279297,\n",
       " 66.55038452148438,\n",
       " 65.93434143066406,\n",
       " 64.5693359375,\n",
       " 65.49635314941406,\n",
       " 64.83949279785156,\n",
       " 63.501590728759766,\n",
       " 63.42515563964844,\n",
       " 64.17952728271484,\n",
       " 63.127655029296875,\n",
       " 63.70610809326172,\n",
       " 61.581756591796875,\n",
       " 62.381492614746094,\n",
       " 62.735816955566406,\n",
       " 61.48454666137695,\n",
       " 62.09693908691406,\n",
       " 62.44051742553711,\n",
       " 60.6217155456543,\n",
       " 62.43894958496094,\n",
       " 60.170166015625,\n",
       " 59.7225456237793,\n",
       " 60.127376556396484,\n",
       " 59.6808967590332,\n",
       " 60.00479507446289,\n",
       " 59.2448844909668,\n",
       " 59.68143081665039]"
      ]
     },
     "execution_count": 31,
     "metadata": {},
     "output_type": "execute_result"
    }
   ],
   "source": [
    "hist.history['loss']"
   ]
  },
  {
   "cell_type": "code",
   "execution_count": 32,
   "metadata": {},
   "outputs": [
    {
     "data": {
      "text/plain": [
       "[67713.8984375,\n",
       " 41818.2734375,\n",
       " 6515.79296875,\n",
       " 1107.7042236328125,\n",
       " 559.0884399414062,\n",
       " 444.45819091796875,\n",
       " 419.1143798828125,\n",
       " 390.59613037109375,\n",
       " 377.5457763671875,\n",
       " 358.80133056640625,\n",
       " 341.72039794921875,\n",
       " 322.1905212402344,\n",
       " 318.0115966796875,\n",
       " 298.8125915527344,\n",
       " 286.69586181640625,\n",
       " 270.8807373046875,\n",
       " 256.9464111328125,\n",
       " 248.29107666015625,\n",
       " 236.81419372558594,\n",
       " 223.34149169921875,\n",
       " 219.6815643310547,\n",
       " 204.02090454101562,\n",
       " 193.4709014892578,\n",
       " 189.18988037109375,\n",
       " 186.078125,\n",
       " 177.34812927246094,\n",
       " 164.6531982421875,\n",
       " 162.64837646484375,\n",
       " 160.69253540039062,\n",
       " 153.1260223388672,\n",
       " 149.4597930908203,\n",
       " 151.01934814453125,\n",
       " 144.18585205078125,\n",
       " 144.0478973388672,\n",
       " 143.0281219482422,\n",
       " 136.3928680419922,\n",
       " 146.28570556640625,\n",
       " 139.86898803710938,\n",
       " 136.5334014892578,\n",
       " 138.58358764648438,\n",
       " 139.0815887451172,\n",
       " 138.0718536376953,\n",
       " 137.93121337890625,\n",
       " 136.90841674804688,\n",
       " 132.55972290039062,\n",
       " 134.2044677734375,\n",
       " 136.57244873046875,\n",
       " 134.75901794433594,\n",
       " 133.2904815673828,\n",
       " 140.0499267578125,\n",
       " 136.5871124267578,\n",
       " 133.89772033691406,\n",
       " 138.5420684814453,\n",
       " 138.9151611328125,\n",
       " 137.160888671875,\n",
       " 133.5595245361328,\n",
       " 133.42263793945312,\n",
       " 140.09243774414062,\n",
       " 141.87060546875,\n",
       " 133.5413055419922,\n",
       " 140.5505828857422,\n",
       " 136.04576110839844,\n",
       " 133.332763671875,\n",
       " 135.5656280517578,\n",
       " 136.1319580078125,\n",
       " 136.40528869628906,\n",
       " 136.27268981933594,\n",
       " 136.70103454589844,\n",
       " 137.3138427734375,\n",
       " 138.38038635253906,\n",
       " 143.61929321289062,\n",
       " 134.17886352539062,\n",
       " 139.88446044921875,\n",
       " 136.90509033203125,\n",
       " 142.0835723876953,\n",
       " 139.21340942382812,\n",
       " 142.52587890625,\n",
       " 148.05006408691406,\n",
       " 138.91673278808594,\n",
       " 138.7957763671875,\n",
       " 139.66795349121094,\n",
       " 137.90374755859375,\n",
       " 139.49725341796875,\n",
       " 138.15414428710938,\n",
       " 136.89035034179688,\n",
       " 140.06204223632812,\n",
       " 136.70004272460938,\n",
       " 135.3678436279297,\n",
       " 144.91075134277344,\n",
       " 139.00709533691406,\n",
       " 139.12832641601562,\n",
       " 141.1028594970703,\n",
       " 143.69728088378906,\n",
       " 144.5056610107422,\n",
       " 141.81617736816406,\n",
       " 143.09844970703125,\n",
       " 142.362548828125,\n",
       " 140.1404571533203,\n",
       " 140.36102294921875,\n",
       " 138.90916442871094]"
      ]
     },
     "execution_count": 32,
     "metadata": {},
     "output_type": "execute_result"
    }
   ],
   "source": [
    "hist.history['val_loss']"
   ]
  },
  {
   "cell_type": "code",
   "execution_count": 33,
   "metadata": {},
   "outputs": [
    {
     "data": {
      "text/plain": [
       "[207.14373779296875,\n",
       " 185.78343200683594,\n",
       " 105.59127807617188,\n",
       " 32.377376556396484,\n",
       " 19.992843627929688,\n",
       " 16.098485946655273,\n",
       " 15.587438583374023,\n",
       " 15.065402030944824,\n",
       " 14.747920989990234,\n",
       " 14.387286186218262,\n",
       " 13.925898551940918,\n",
       " 13.523896217346191,\n",
       " 13.162006378173828,\n",
       " 12.767066955566406,\n",
       " 12.448570251464844,\n",
       " 12.070173263549805,\n",
       " 11.690168380737305,\n",
       " 11.287291526794434,\n",
       " 11.015778541564941,\n",
       " 10.687091827392578,\n",
       " 10.399544715881348,\n",
       " 10.057306289672852,\n",
       " 9.81025505065918,\n",
       " 9.509956359863281,\n",
       " 9.259305000305176,\n",
       " 8.993612289428711,\n",
       " 8.870563507080078,\n",
       " 8.57709789276123,\n",
       " 8.495689392089844,\n",
       " 8.278624534606934,\n",
       " 8.084506034851074,\n",
       " 7.993265151977539,\n",
       " 7.8713860511779785,\n",
       " 7.787752151489258,\n",
       " 7.599482536315918,\n",
       " 7.5676093101501465,\n",
       " 7.5034966468811035,\n",
       " 7.441624164581299,\n",
       " 7.354104995727539,\n",
       " 7.265339374542236,\n",
       " 7.288091659545898,\n",
       " 7.178225517272949,\n",
       " 7.154696464538574,\n",
       " 7.144923210144043,\n",
       " 7.1426920890808105,\n",
       " 7.0506415367126465,\n",
       " 7.02254581451416,\n",
       " 6.965686798095703,\n",
       " 6.9108052253723145,\n",
       " 6.941989898681641,\n",
       " 6.9419989585876465,\n",
       " 6.8679046630859375,\n",
       " 6.81715202331543,\n",
       " 6.807247161865234,\n",
       " 6.793375015258789,\n",
       " 6.7364115715026855,\n",
       " 6.736865043640137,\n",
       " 6.70751953125,\n",
       " 6.691338062286377,\n",
       " 6.6848063468933105,\n",
       " 6.655393123626709,\n",
       " 6.702517032623291,\n",
       " 6.583857536315918,\n",
       " 6.597713470458984,\n",
       " 6.532076358795166,\n",
       " 6.537148475646973,\n",
       " 6.4751105308532715,\n",
       " 6.450387954711914,\n",
       " 6.496645927429199,\n",
       " 6.46909236907959,\n",
       " 6.535348892211914,\n",
       " 6.419747829437256,\n",
       " 6.3401288986206055,\n",
       " 6.325310707092285,\n",
       " 6.432477951049805,\n",
       " 6.3799519538879395,\n",
       " 6.392296314239502,\n",
       " 6.2955403327941895,\n",
       " 6.355816841125488,\n",
       " 6.303264617919922,\n",
       " 6.226816177368164,\n",
       " 6.212817192077637,\n",
       " 6.261867523193359,\n",
       " 6.2232279777526855,\n",
       " 6.236362934112549,\n",
       " 6.132357597351074,\n",
       " 6.158985614776611,\n",
       " 6.145327568054199,\n",
       " 6.100097179412842,\n",
       " 6.103686332702637,\n",
       " 6.124814510345459,\n",
       " 6.058192253112793,\n",
       " 6.1546735763549805,\n",
       " 6.052473068237305,\n",
       " 6.047833442687988,\n",
       " 6.033921718597412,\n",
       " 6.0343546867370605,\n",
       " 6.021491050720215,\n",
       " 6.0266571044921875,\n",
       " 5.978702545166016]"
      ]
     },
     "execution_count": 33,
     "metadata": {},
     "output_type": "execute_result"
    }
   ],
   "source": [
    "hist.history['mae']"
   ]
  },
  {
   "cell_type": "code",
   "execution_count": 34,
   "metadata": {},
   "outputs": [
    {
     "data": {
      "text/plain": [
       "[207.21981811523438,\n",
       " 159.68861389160156,\n",
       " 56.40227508544922,\n",
       " 25.458236694335938,\n",
       " 17.710803985595703,\n",
       " 16.28687286376953,\n",
       " 15.849294662475586,\n",
       " 15.501617431640625,\n",
       " 15.150030136108398,\n",
       " 14.684792518615723,\n",
       " 14.30578899383545,\n",
       " 14.092717170715332,\n",
       " 14.059442520141602,\n",
       " 13.757720947265625,\n",
       " 13.300276756286621,\n",
       " 12.986800193786621,\n",
       " 12.67190933227539,\n",
       " 12.515499114990234,\n",
       " 12.143939971923828,\n",
       " 11.879851341247559,\n",
       " 11.89101791381836,\n",
       " 11.336699485778809,\n",
       " 11.095403671264648,\n",
       " 10.960823059082031,\n",
       " 10.828373908996582,\n",
       " 10.66845989227295,\n",
       " 10.309612274169922,\n",
       " 10.215893745422363,\n",
       " 10.119682312011719,\n",
       " 9.919593811035156,\n",
       " 9.840847969055176,\n",
       " 9.844576835632324,\n",
       " 9.678350448608398,\n",
       " 9.718337059020996,\n",
       " 9.668466567993164,\n",
       " 9.456892967224121,\n",
       " 9.722354888916016,\n",
       " 9.522147178649902,\n",
       " 9.405292510986328,\n",
       " 9.449017524719238,\n",
       " 9.5000581741333,\n",
       " 9.458852767944336,\n",
       " 9.438799858093262,\n",
       " 9.39046859741211,\n",
       " 9.276330947875977,\n",
       " 9.316807746887207,\n",
       " 9.397006034851074,\n",
       " 9.310550689697266,\n",
       " 9.24759578704834,\n",
       " 9.402131080627441,\n",
       " 9.3411283493042,\n",
       " 9.239792823791504,\n",
       " 9.427419662475586,\n",
       " 9.461420059204102,\n",
       " 9.312448501586914,\n",
       " 9.244285583496094,\n",
       " 9.277693748474121,\n",
       " 9.455389976501465,\n",
       " 9.478013038635254,\n",
       " 9.223321914672852,\n",
       " 9.467119216918945,\n",
       " 9.368829727172852,\n",
       " 9.255912780761719,\n",
       " 9.348210334777832,\n",
       " 9.346713066101074,\n",
       " 9.344108581542969,\n",
       " 9.365194320678711,\n",
       " 9.327535629272461,\n",
       " 9.372142791748047,\n",
       " 9.455443382263184,\n",
       " 9.480669975280762,\n",
       " 9.247220993041992,\n",
       " 9.430989265441895,\n",
       " 9.358604431152344,\n",
       " 9.459914207458496,\n",
       " 9.395015716552734,\n",
       " 9.480025291442871,\n",
       " 9.686446189880371,\n",
       " 9.417699813842773,\n",
       " 9.37536334991455,\n",
       " 9.444689750671387,\n",
       " 9.408904075622559,\n",
       " 9.4127779006958,\n",
       " 9.430185317993164,\n",
       " 9.369361877441406,\n",
       " 9.411842346191406,\n",
       " 9.422189712524414,\n",
       " 9.344256401062012,\n",
       " 9.570743560791016,\n",
       " 9.496169090270996,\n",
       " 9.484573364257812,\n",
       " 9.442455291748047,\n",
       " 9.503464698791504,\n",
       " 9.636260032653809,\n",
       " 9.558462142944336,\n",
       " 9.489831924438477,\n",
       " 9.552165985107422,\n",
       " 9.493514060974121,\n",
       " 9.511052131652832,\n",
       " 9.440936088562012]"
      ]
     },
     "execution_count": 34,
     "metadata": {},
     "output_type": "execute_result"
    }
   ],
   "source": [
    "hist.history['val_mae']"
   ]
  },
  {
   "cell_type": "markdown",
   "metadata": {},
   "source": [
    "### Plot the learning curve"
   ]
  },
  {
   "cell_type": "code",
   "execution_count": 37,
   "metadata": {},
   "outputs": [
    {
     "data": {
      "image/png": "[encoded data removed]",
      "text/plain": [
       "<Figure size 1600x800 with 1 Axes>"
      ]
     },
     "metadata": {},
     "output_type": "display_data"
    }
   ],
   "source": [
    "import matplotlib.pyplot as plt\n",
    "plt.figure(figsize=(16,8))\n",
    "plt.plot(hist.history['loss'],label='Train MSE')\n",
    "plt.plot(hist.history['val_loss'],label='Validation MSE')\n",
    "plt.xlabel('Epochs')\n",
    "plt.ylabel('Mean Squared Error')\n",
    "plt.title('Learning Curve')\n",
    "plt.legend()\n",
    "plt.show()"
   ]
  },
  {
   "cell_type": "markdown",
   "metadata": {},
   "source": [
    "### Evaluate the model"
   ]
  },
  {
   "cell_type": "code",
   "execution_count": 38,
   "metadata": {},
   "outputs": [
    {
     "name": "stdout",
     "output_type": "stream",
     "text": [
      "125/125 [==============================] - 0s 852us/step - loss: 71.9798 - mae: 6.5030\n"
     ]
    },
    {
     "data": {
      "text/plain": [
       "[71.97976684570312, 6.5030035972595215]"
      ]
     },
     "execution_count": 38,
     "metadata": {},
     "output_type": "execute_result"
    }
   ],
   "source": [
    "model.evaluate(xtrain,ytrain)"
   ]
  },
  {
   "cell_type": "code",
   "execution_count": 39,
   "metadata": {},
   "outputs": [
    {
     "name": "stdout",
     "output_type": "stream",
     "text": [
      "32/32 [==============================] - 0s 925us/step - loss: 131.0260 - mae: 9.1069\n"
     ]
    },
    {
     "data": {
      "text/plain": [
       "[131.02601623535156, 9.106904983520508]"
      ]
     },
     "execution_count": 39,
     "metadata": {},
     "output_type": "execute_result"
    }
   ],
   "source": [
    "model.evaluate(xtest,ytest)"
   ]
  },
  {
   "cell_type": "markdown",
   "metadata": {},
   "source": [
    "### Predict train and test"
   ]
  },
  {
   "cell_type": "code",
   "execution_count": 40,
   "metadata": {},
   "outputs": [
    {
     "name": "stdout",
     "output_type": "stream",
     "text": [
      "125/125 [==============================] - 0s 741us/step\n",
      "32/32 [==============================] - 0s 716us/step\n"
     ]
    }
   ],
   "source": [
    "ypred_tr=model.predict(xtrain)\n",
    "ypred_ts=model.predict(xtest)"
   ]
  },
  {
   "cell_type": "code",
   "execution_count": 41,
   "metadata": {},
   "outputs": [
    {
     "data": {
      "text/plain": [
       "array([[ 419.02963 ],\n",
       "       [-459.2259  ],\n",
       "       [  39.193417],\n",
       "       [ 114.6859  ],\n",
       "       [-220.15726 ]], dtype=float32)"
      ]
     },
     "execution_count": 41,
     "metadata": {},
     "output_type": "execute_result"
    }
   ],
   "source": [
    "ypred_tr[0:5]"
   ]
  },
  {
   "cell_type": "code",
   "execution_count": 42,
   "metadata": {},
   "outputs": [
    {
     "data": {
      "text/html": [
       "<div>\n",
       "<style scoped>\n",
       "    .dataframe tbody tr th:only-of-type {\n",
       "        vertical-align: middle;\n",
       "    }\n",
       "\n",
       "    .dataframe tbody tr th {\n",
       "        vertical-align: top;\n",
       "    }\n",
       "\n",
       "    .dataframe thead th {\n",
       "        text-align: right;\n",
       "    }\n",
       "</style>\n",
       "<table border=\"1\" class=\"dataframe\">\n",
       "  <thead>\n",
       "    <tr style=\"text-align: right;\">\n",
       "      <th></th>\n",
       "      <th>Y</th>\n",
       "    </tr>\n",
       "  </thead>\n",
       "  <tbody>\n",
       "    <tr>\n",
       "      <th>4227</th>\n",
       "      <td>421.295025</td>\n",
       "    </tr>\n",
       "    <tr>\n",
       "      <th>4676</th>\n",
       "      <td>-469.452726</td>\n",
       "    </tr>\n",
       "    <tr>\n",
       "      <th>800</th>\n",
       "      <td>42.172815</td>\n",
       "    </tr>\n",
       "    <tr>\n",
       "      <th>3671</th>\n",
       "      <td>114.083914</td>\n",
       "    </tr>\n",
       "    <tr>\n",
       "      <th>4193</th>\n",
       "      <td>-217.535707</td>\n",
       "    </tr>\n",
       "  </tbody>\n",
       "</table>\n",
       "</div>"
      ],
      "text/plain": [
       "               Y\n",
       "4227  421.295025\n",
       "4676 -469.452726\n",
       "800    42.172815\n",
       "3671  114.083914\n",
       "4193 -217.535707"
      ]
     },
     "execution_count": 42,
     "metadata": {},
     "output_type": "execute_result"
    }
   ],
   "source": [
    "ytrain.head()"
   ]
  },
  {
   "cell_type": "code",
   "execution_count": 43,
   "metadata": {},
   "outputs": [
    {
     "data": {
      "text/plain": [
       "array([[ 301.72598 ],\n",
       "       [ -63.123623],\n",
       "       [-196.15681 ],\n",
       "       [ 235.2591  ],\n",
       "       [ 178.60182 ]], dtype=float32)"
      ]
     },
     "execution_count": 43,
     "metadata": {},
     "output_type": "execute_result"
    }
   ],
   "source": [
    "ypred_ts[0:5]"
   ]
  },
  {
   "cell_type": "code",
   "execution_count": 44,
   "metadata": {},
   "outputs": [
    {
     "data": {
      "text/html": [
       "<div>\n",
       "<style scoped>\n",
       "    .dataframe tbody tr th:only-of-type {\n",
       "        vertical-align: middle;\n",
       "    }\n",
       "\n",
       "    .dataframe tbody tr th {\n",
       "        vertical-align: top;\n",
       "    }\n",
       "\n",
       "    .dataframe thead th {\n",
       "        text-align: right;\n",
       "    }\n",
       "</style>\n",
       "<table border=\"1\" class=\"dataframe\">\n",
       "  <thead>\n",
       "    <tr style=\"text-align: right;\">\n",
       "      <th></th>\n",
       "      <th>Y</th>\n",
       "    </tr>\n",
       "  </thead>\n",
       "  <tbody>\n",
       "    <tr>\n",
       "      <th>1501</th>\n",
       "      <td>297.782677</td>\n",
       "    </tr>\n",
       "    <tr>\n",
       "      <th>2586</th>\n",
       "      <td>-55.418700</td>\n",
       "    </tr>\n",
       "    <tr>\n",
       "      <th>2653</th>\n",
       "      <td>-181.896454</td>\n",
       "    </tr>\n",
       "    <tr>\n",
       "      <th>1055</th>\n",
       "      <td>210.251382</td>\n",
       "    </tr>\n",
       "    <tr>\n",
       "      <th>705</th>\n",
       "      <td>188.412050</td>\n",
       "    </tr>\n",
       "  </tbody>\n",
       "</table>\n",
       "</div>"
      ],
      "text/plain": [
       "               Y\n",
       "1501  297.782677\n",
       "2586  -55.418700\n",
       "2653 -181.896454\n",
       "1055  210.251382\n",
       "705   188.412050"
      ]
     },
     "execution_count": 44,
     "metadata": {},
     "output_type": "execute_result"
    }
   ],
   "source": [
    "ytest.head()"
   ]
  },
  {
   "cell_type": "markdown",
   "metadata": {},
   "source": [
    "### Show r2 score in train and test"
   ]
  },
  {
   "cell_type": "code",
   "execution_count": 45,
   "metadata": {},
   "outputs": [
    {
     "name": "stdout",
     "output_type": "stream",
     "text": [
      "Training R2:0.9989\n"
     ]
    }
   ],
   "source": [
    "from sklearn.metrics import r2_score\n",
    "tr_r2=r2_score(ytrain,ypred_tr)\n",
    "print(f'Training R2:{tr_r2:.4f}')"
   ]
  },
  {
   "cell_type": "code",
   "execution_count": 47,
   "metadata": {},
   "outputs": [
    {
     "name": "stdout",
     "output_type": "stream",
     "text": [
      "Testing R2:0.9982\n"
     ]
    }
   ],
   "source": [
    "ts_r2=r2_score(ytest,ypred_ts)\n",
    "print(f'Testing R2:{ts_r2:.4f}')"
   ]
  },
  {
   "cell_type": "markdown",
   "metadata": {},
   "source": [
    "### Save the model for future"
   ]
  },
  {
   "cell_type": "code",
   "execution_count": 48,
   "metadata": {},
   "outputs": [],
   "source": [
    "model.save('Regression.keras')"
   ]
  },
  {
   "cell_type": "markdown",
   "metadata": {},
   "source": [
    "### Loading the model"
   ]
  },
  {
   "cell_type": "code",
   "execution_count": 49,
   "metadata": {},
   "outputs": [],
   "source": [
    "from keras.models import load_model"
   ]
  },
  {
   "cell_type": "code",
   "execution_count": 50,
   "metadata": {},
   "outputs": [],
   "source": [
    "nn=load_model('Regression.keras')"
   ]
  },
  {
   "cell_type": "code",
   "execution_count": 51,
   "metadata": {},
   "outputs": [
    {
     "name": "stdout",
     "output_type": "stream",
     "text": [
      "Model: \"sequential\"\n",
      "_________________________________________________________________\n",
      " Layer (type)                Output Shape              Param #   \n",
      "=================================================================\n",
      " dense (Dense)               (None, 64)                1984      \n",
      "                                                                 \n",
      " dense_1 (Dense)             (None, 32)                2080      \n",
      "                                                                 \n",
      " dense_2 (Dense)             (None, 1)                 33        \n",
      "                                                                 \n",
      "=================================================================\n",
      "Total params: 4097 (16.00 KB)\n",
      "Trainable params: 4097 (16.00 KB)\n",
      "Non-trainable params: 0 (0.00 Byte)\n",
      "_________________________________________________________________\n"
     ]
    }
   ],
   "source": [
    "nn.summary()"
   ]
  },
  {
   "cell_type": "code",
   "execution_count": null,
   "metadata": {},
   "outputs": [],
   "source": []
  }
 ],
 "metadata": {
  "kernelspec": {
   "display_name": "Python 3",
   "language": "python",
   "name": "python3"
  },
  "language_info": {
   "codemirror_mode": {
    "name": "ipython",
    "version": 3
   },
   "file_extension": ".py",
   "mimetype": "text/x-python",
   "name": "python",
   "nbconvert_exporter": "python",
   "pygments_lexer": "ipython3",
   "version": "3.11.3"
  }
 },
 "nbformat": 4,
 "nbformat_minor": 2
}
